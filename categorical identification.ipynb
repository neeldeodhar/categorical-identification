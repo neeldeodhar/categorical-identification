{
 "cells": [
  {
   "cell_type": "code",
   "execution_count": 1,
   "id": "32aa6512-7902-4774-a859-9aafe7c06517",
   "metadata": {},
   "outputs": [],
   "source": [
    "#import keras.sequential\n",
    "import tensorflow as tf\n",
    "from tensorflow.keras.models import Sequential"
   ]
  },
  {
   "cell_type": "code",
   "execution_count": 2,
   "id": "968d3096-7189-4329-8a00-a0bbcaf91957",
   "metadata": {},
   "outputs": [
    {
     "name": "stdout",
     "output_type": "stream",
     "text": [
      "Downloading data from https://www.cs.toronto.edu/~kriz/cifar-100-python.tar.gz\n",
      "169009152/169001437 [==============================] - 694s 4us/step\n"
     ]
    }
   ],
   "source": [
    "#downloading the CIFAR-100 dataset\n",
    "from tensorflow.keras.datasets import cifar100\n",
    "(x_train, y_train), (x_test, y_test) = cifar100.load_data()"
   ]
  },
  {
   "cell_type": "code",
   "execution_count": 3,
   "id": "a5186baf-92aa-44ef-b343-19150c54696e",
   "metadata": {},
   "outputs": [],
   "source": [
    "#code  to normalize the dataset\n",
    "x_train = x_train.astype('float32')/255\n",
    "x_test = x_test.astype('float32')/255\n"
   ]
  },
  {
   "cell_type": "code",
   "execution_count": 5,
   "id": "4b3f15f5-e43b-4f55-bf9a-9c70630ca624",
   "metadata": {},
   "outputs": [],
   "source": [
    "#encoding the labels for training\n",
    "from tensorflow.keras.utils import to_categorical\n",
    "y_train = to_categorical(y_train, 100)\n",
    "y_test = to_categorical(y_test, 100)\n",
    "            "
   ]
  },
  {
   "cell_type": "code",
   "execution_count": 6,
   "id": "286df370-3dec-4c3f-897a-44fbb6c7651d",
   "metadata": {},
   "outputs": [],
   "source": [
    "from tensorflow.keras.models import Sequential\n",
    "model = Sequential()"
   ]
  },
  {
   "cell_type": "code",
   "execution_count": null,
   "id": "7923aa7b-4c3e-4ee5-8e33-c8aa2079130b",
   "metadata": {},
   "outputs": [],
   "source": [
    "#BUILDING CNN with following layers"
   ]
  },
  {
   "cell_type": "code",
   "execution_count": 7,
   "id": "005fea2c-ac90-4c67-b257-8f1f320d4d60",
   "metadata": {},
   "outputs": [],
   "source": [
    "#inputting 2D convolutional layers\n",
    "from tensorflow.keras.layers import Conv2D\n",
    "model.add(Conv2D(32, (3, 3), input_shape=(32, 32, 3), activation='relu'))\n",
    "\n"
   ]
  },
  {
   "cell_type": "raw",
   "id": "7a448eec-7e9e-42a2-ab7c-2d12b48d8d93",
   "metadata": {},
   "source": [
    "\n",
    "model.add(Conv2D(32, (3, 3), input_shape=(32, 32, 3), activation='relu'))"
   ]
  },
  {
   "cell_type": "code",
   "execution_count": 10,
   "id": "92cb12fa-8ea0-4a63-83e9-e750006ada35",
   "metadata": {},
   "outputs": [],
   "source": [
    "#adddng 2D max pooling layer alongwith a dropout layer\n",
    "from tensorflow.keras.layers import MaxPooling2D, Dropout\n",
    "model.add(MaxPooling2D(pool_size=(2, 2)))\n",
    "model.add(Dropout(0.25))"
   ]
  },
  {
   "cell_type": "code",
   "execution_count": 11,
   "id": "4d06aeea-9103-49b3-9239-37c60f3b055a",
   "metadata": {},
   "outputs": [],
   "source": [
    "#adding second 2D convolutional layers (maxpooling and dropout\n",
    "model.add(Conv2D(64, (3, 3), activation='relu'))\n",
    "model.add(MaxPooling2D(pool_size = (2,2)))\n",
    "model.add(Dropout(0.25))"
   ]
  },
  {
   "cell_type": "code",
   "execution_count": 12,
   "id": "ff019230-83bb-4a42-be56-420ea62a57b1",
   "metadata": {},
   "outputs": [],
   "source": [
    "#adding a flattening layer\n",
    "from tensorflow.keras.layers import Flatten\n",
    "model.add(Flatten())"
   ]
  },
  {
   "cell_type": "code",
   "execution_count": 17,
   "id": "4d8f5b58-d752-4e1a-918a-158c79eb4bfa",
   "metadata": {},
   "outputs": [
    {
     "name": "stdout",
     "output_type": "stream",
     "text": [
      "1563/1563 [==============================] - 541s 346ms/step - loss: 4.5528 - accuracy: 0.0135\n",
      "313/313 [==============================] - 32s 101ms/step - loss: 4.4772 - accuracy: 0.0193\n"
     ]
    }
   ],
   "source": [
    "#adding another fully connected layer\n",
    "from tensorflow.keras.layers import Dense\n",
    "model.add(Dense(units= 512, activation='relu'))\n",
    "\n",
    "model.add(Dense(units=100, activation='softmax'))\n",
    "\n",
    "#choosing hyperparameters, please NOTE number of epochs is 1 to reduce processing times\n",
    "model.compile(optimizer='adam', loss='categorical_crossentropy', metrics=['accuracy'])\n",
    "\n",
    "model.fit(x_train, y_train, epochs=1 , batch_size = 32)\n",
    "\n",
    "loss, accuracy = model.evaluate(x_test, y_test)"
   ]
  },
  {
   "cell_type": "code",
   "execution_count": null,
   "id": "cc0fdeb3-fed8-43f2-b06f-2b9bc712884a",
   "metadata": {},
   "outputs": [],
   "source": []
  }
 ],
 "metadata": {
  "kernelspec": {
   "display_name": "Python 3 (ipykernel)",
   "language": "python",
   "name": "python3"
  },
  "language_info": {
   "codemirror_mode": {
    "name": "ipython",
    "version": 3
   },
   "file_extension": ".py",
   "mimetype": "text/x-python",
   "name": "python",
   "nbconvert_exporter": "python",
   "pygments_lexer": "ipython3",
   "version": "3.8.19"
  }
 },
 "nbformat": 4,
 "nbformat_minor": 5
}
